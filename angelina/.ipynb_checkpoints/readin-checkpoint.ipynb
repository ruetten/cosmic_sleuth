{
 "cells": [
  {
   "cell_type": "code",
   "execution_count": null,
   "id": "7565ab00",
   "metadata": {},
   "outputs": [],
   "source": [
    "#A little tutorial for reading in crpropa data!"
   ]
  },
  {
   "cell_type": "code",
   "execution_count": 2,
   "id": "ccbe2c1b",
   "metadata": {},
   "outputs": [],
   "source": [
    "import numpy as np\n",
    "import pylab as pl"
   ]
  },
  {
   "cell_type": "code",
   "execution_count": 14,
   "id": "da632a30",
   "metadata": {},
   "outputs": [],
   "source": [
    "data = pl.genfromtxt(\"M83.txt\", names = True)"
   ]
  },
  {
   "cell_type": "code",
   "execution_count": 7,
   "id": "35049d9c",
   "metadata": {},
   "outputs": [
    {
     "name": "stdout",
     "output_type": "stream",
     "text": [
      "3.50235 3.55827\n"
     ]
    }
   ],
   "source": [
    "#The distance (in Mpc) that the particle traveled from source to observer\n",
    "#I think the variation in distance comes from the adaptive step size, but I'll need to look into this\n",
    "\n",
    "distances = data[\"D\"]\n",
    "print(np.min(distances), np.max(distances))"
   ]
  },
  {
   "cell_type": "code",
   "execution_count": 8,
   "id": "e42b9dbc",
   "metadata": {},
   "outputs": [
    {
     "name": "stdout",
     "output_type": "stream",
     "text": [
      "Number of events = 1325\n"
     ]
    }
   ],
   "source": [
    "print(\"Number of events = {}\".format(np.shape(distances)[0]))"
   ]
  },
  {
   "cell_type": "code",
   "execution_count": 9,
   "id": "430a2fe2",
   "metadata": {},
   "outputs": [
    {
     "name": "stdout",
     "output_type": "stream",
     "text": [
      "[1000020040, 1000020040, 1000020040, 1000020040, 1000010010, 1000010010, 1000020040, 1000020040, 1000020040, 1000010010]\n"
     ]
    }
   ],
   "source": [
    "#The type of particle observed by the detector\n",
    "#The numbers are codes indicating particle types\n",
    "#The key for the numbering scheme is here https://pdg.lbl.gov/2007/reviews/montecarlorpp.pdf\n",
    "#Code follows 10LZZZAAAI\n",
    "#A is massnumber, Z is charge number\n",
    "#Don't worry about L or I, those will almost always be 0\n",
    "#For example, 1000010010 is a proton\n",
    "\n",
    "ID = data[\"ID\"]\n",
    "print([int(iD) for iD in ID][:10])"
   ]
  },
  {
   "cell_type": "code",
   "execution_count": 10,
   "id": "68b09fe6",
   "metadata": {},
   "outputs": [
    {
     "name": "stdout",
     "output_type": "stream",
     "text": [
      "1.00049 555.529\n"
     ]
    }
   ],
   "source": [
    "#Energy (in EeV) of the detected particle\n",
    "\n",
    "E = data[\"E\"]\n",
    "print(np.min(E), np.max(E))"
   ]
  },
  {
   "cell_type": "code",
   "execution_count": 11,
   "id": "187427cb",
   "metadata": {},
   "outputs": [
    {
     "name": "stdout",
     "output_type": "stream",
     "text": [
      "-0.0531115 0.125276 -3.50324\n"
     ]
    }
   ],
   "source": [
    "#The Cartesian coordinates at which the particle was CREATED\n",
    "#This is backwards from what the guide said: if you read the text file header it says X0, Y0, Z0 is creation point\n",
    "#My simulation is backwards because of a trick I use to account for magnetic field\n",
    "#We can talk about this later\n",
    "\n",
    "\n",
    "X, Y, Z = data[\"X\"], data[\"Y\"], data[\"Z\"]\n",
    "#print(X[1], Y[1], Z[1])\n",
    "\n",
    "print(X[0], Y[0], Z[0])"
   ]
  },
  {
   "cell_type": "code",
   "execution_count": 12,
   "id": "31441658",
   "metadata": {},
   "outputs": [
    {
     "name": "stdout",
     "output_type": "stream",
     "text": [
      "0.0127252 -0.0357344 0.99928\n"
     ]
    }
   ],
   "source": [
    "#This is a unit vector indicating the momentum of the particle at detection\n",
    "#The negative signs matter here! My simulation runs backwards, so the particle momenta have to be flipped\n",
    "#My simulation has no actual deflections in propagation, so momenta at detection = momenta at creation\n",
    "\n",
    "Px, Py, Pz = -data[\"Px\"], -data[\"Py\"], -data[\"Pz\"]\n",
    "print(Px[0], Py[0], Pz[0])"
   ]
  },
  {
   "cell_type": "code",
   "execution_count": null,
   "id": "4c0a9ce1",
   "metadata": {},
   "outputs": [],
   "source": []
  }
 ],
 "metadata": {
  "kernelspec": {
   "display_name": "Python 3 (ipykernel)",
   "language": "python",
   "name": "python3"
  },
  "language_info": {
   "codemirror_mode": {
    "name": "ipython",
    "version": 3
   },
   "file_extension": ".py",
   "mimetype": "text/x-python",
   "name": "python",
   "nbconvert_exporter": "python",
   "pygments_lexer": "ipython3",
   "version": "3.10.4"
  }
 },
 "nbformat": 4,
 "nbformat_minor": 5
}
