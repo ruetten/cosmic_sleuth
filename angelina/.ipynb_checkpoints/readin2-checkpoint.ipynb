{
 "cells": [
  {
   "cell_type": "code",
   "execution_count": 1,
   "id": "c4f65116",
   "metadata": {},
   "outputs": [],
   "source": [
    "#A little tutorial for reading in crpropa data!"
   ]
  },
  {
   "cell_type": "code",
   "execution_count": 2,
   "id": "e3b73d76",
   "metadata": {},
   "outputs": [],
   "source": [
    "import numpy as np\n",
    "import pylab as pl"
   ]
  },
  {
   "cell_type": "code",
   "execution_count": 3,
   "id": "8f36f833",
   "metadata": {},
   "outputs": [],
   "source": [
    "data = pl.genfromtxt(\"practice.txt\", names = True)"
   ]
  },
  {
   "cell_type": "code",
   "execution_count": 4,
   "id": "e64cb9fb",
   "metadata": {},
   "outputs": [
    {
     "name": "stdout",
     "output_type": "stream",
     "text": [
      "3.65871 3.71651\n"
     ]
    }
   ],
   "source": [
    "#The distance (in Mpc) that the particle traveled from source to observer\n",
    "#I think the variation in distance comes from the adaptive step size, but I'll need to look into this\n",
    "\n",
    "distances = data[\"D\"]\n",
    "print(np.min(distances), np.max(distances))"
   ]
  },
  {
   "cell_type": "code",
   "execution_count": 5,
   "id": "195951be",
   "metadata": {},
   "outputs": [
    {
     "name": "stdout",
     "output_type": "stream",
     "text": [
      "Number of events = 1556\n"
     ]
    }
   ],
   "source": [
    "print(\"Number of events = {}\".format(np.shape(distances)[0]))"
   ]
  },
  {
   "cell_type": "code",
   "execution_count": 6,
   "id": "767193a8",
   "metadata": {},
   "outputs": [
    {
     "name": "stdout",
     "output_type": "stream",
     "text": [
      "[1000020040, 1000020040, 1000020040, 1000010010, 1000020040, 1000020040, 1000020040, 1000020040, 1000020040, 1000020030]\n"
     ]
    }
   ],
   "source": [
    "#The type of particle observed by the detector\n",
    "#The numbers are codes indicating particle types\n",
    "#The key for the numbering scheme is here https://pdg.lbl.gov/2007/reviews/montecarlorpp.pdf\n",
    "#Code follows 10LZZZAAAI\n",
    "#A is massnumber, Z is charge number\n",
    "#Don't worry about L or I, those will almost always be 0\n",
    "#For example, 1000010010 is a proton\n",
    "\n",
    "ID = data[\"ID\"]\n",
    "print([int(iD) for iD in ID][:10])"
   ]
  },
  {
   "cell_type": "code",
   "execution_count": 7,
   "id": "f44b7a00",
   "metadata": {},
   "outputs": [
    {
     "name": "stdout",
     "output_type": "stream",
     "text": [
      "1.00225 389.587\n"
     ]
    }
   ],
   "source": [
    "#Energy (in EeV) of the detected particle\n",
    "\n",
    "E = data[\"E\"]\n",
    "print(np.min(E), np.max(E))"
   ]
  },
  {
   "cell_type": "code",
   "execution_count": 8,
   "id": "e3e5c324",
   "metadata": {},
   "outputs": [
    {
     "name": "stdout",
     "output_type": "stream",
     "text": [
      "2.08798 -2.90475 0.816331\n"
     ]
    }
   ],
   "source": [
    "#The Cartesian coordinates at which the particle was CREATED\n",
    "#This is backwards from what the guide said: if you read the text file header it says X0, Y0, Z0 is creation point\n",
    "#My simulation is backwards because of a trick I use to account for magnetic field\n",
    "#We can talk about this later\n",
    "\n",
    "\n",
    "X, Y, Z = data[\"X\"], data[\"Y\"], data[\"Z\"]\n",
    "#print(X[1], Y[1], Z[1])\n",
    "\n",
    "print(X[0], Y[0], Z[0])"
   ]
  },
  {
   "cell_type": "code",
   "execution_count": 9,
   "id": "f948efb6",
   "metadata": {},
   "outputs": [
    {
     "name": "stdout",
     "output_type": "stream",
     "text": [
      "-0.570606 0.790597 -0.222184\n"
     ]
    }
   ],
   "source": [
    "#This is a unit vector indicating the momentum of the particle at detection\n",
    "#The negative signs matter here! My simulation runs backwards, so the particle momenta have to be flipped\n",
    "#My simulation has no actual deflections in propagation, so momenta at detection = momenta at creation\n",
    "\n",
    "Px, Py, Pz = -data[\"Px\"], -data[\"Py\"], -data[\"Pz\"]\n",
    "print(Px[0], Py[0], Pz[0])"
   ]
  },
  {
   "cell_type": "code",
   "execution_count": 10,
   "id": "317e4230",
   "metadata": {},
   "outputs": [],
   "source": [
    "import healpy as hp"
   ]
  },
  {
   "cell_type": "code",
   "execution_count": null,
   "id": "8f2085d8",
   "metadata": {},
   "outputs": [],
   "source": []
  }
 ],
 "metadata": {
  "kernelspec": {
   "display_name": "crpropa",
   "language": "python",
   "name": "crpropa"
  },
  "language_info": {
   "codemirror_mode": {
    "name": "ipython",
    "version": 3
   },
   "file_extension": ".py",
   "mimetype": "text/x-python",
   "name": "python",
   "nbconvert_exporter": "python",
   "pygments_lexer": "ipython3",
   "version": "3.9.13"
  }
 },
 "nbformat": 4,
 "nbformat_minor": 5
}
