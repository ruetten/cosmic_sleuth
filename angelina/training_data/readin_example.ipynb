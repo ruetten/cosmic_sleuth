{
 "cells": [
  {
   "cell_type": "code",
   "execution_count": 1,
   "id": "77e7ec9b",
   "metadata": {},
   "outputs": [],
   "source": [
    "import numpy as np\n",
    "import pylab as pl"
   ]
  },
  {
   "cell_type": "code",
   "execution_count": 28,
   "id": "edc663b3",
   "metadata": {},
   "outputs": [],
   "source": [
    "def normalize(feature): \n",
    "    minimum = np.min(feature)\n",
    "    maximum = np.max(feature)\n",
    "    range = maximum - minimum\n",
    "    feature_norm = (feature - minimum)/range\n",
    "    return feature_norm.tolist()"
   ]
  },
  {
   "cell_type": "code",
   "execution_count": 5,
   "id": "9c6dba35",
   "metadata": {},
   "outputs": [],
   "source": [
    "data = pl.genfromtxt(\"all_data.txt\", names = True)"
   ]
  },
  {
   "cell_type": "code",
   "execution_count": 9,
   "id": "eda11c28",
   "metadata": {},
   "outputs": [
    {
     "name": "stdout",
     "output_type": "stream",
     "text": [
      "Minimum rigidity = 7.47948962893499e+17 V, maximum rigidity = 2.884031503126612e+20 V\n"
     ]
    }
   ],
   "source": [
    "#Rigidities of particles (R = E/Z, measured in volts)\n",
    "\n",
    "R = data['rigidity']\n",
    "print(\"Minimum rigidity = {} V, maximum rigidity = {} V\".format(np.min(R), np.max(R)))"
   ]
  },
  {
   "cell_type": "code",
   "execution_count": 12,
   "id": "b7b8c25a",
   "metadata": {},
   "outputs": [
    {
     "name": "stdout",
     "output_type": "stream",
     "text": [
      "[0.54903915 0.66518648 0.60511293 ... 0.67832474 0.57621362 0.03035867]\n"
     ]
    }
   ],
   "source": [
    "#Unit vectors of incoming particle momenta; these give the direction that the cosmic ray was detected from\n",
    "\n",
    "px, py, pz = data['px'], data['py'], data['pz']\n",
    "print(px)"
   ]
  },
  {
   "cell_type": "code",
   "execution_count": 13,
   "id": "39a1ca61",
   "metadata": {},
   "outputs": [
    {
     "name": "stdout",
     "output_type": "stream",
     "text": [
      "[3.65188565e-04 1.01782102e-03 1.05754305e-46 ... 6.23778231e-06\n",
      " 7.78522069e-05 8.11476543e-88]\n"
     ]
    }
   ],
   "source": [
    "#For each pixel, particle rigidity, and source combination: \n",
    "#the normalized fraction of that particle rigidity arriving in that pixel \n",
    "\n",
    "N = data['Nparticles']\n",
    "print(N)"
   ]
  },
  {
   "cell_type": "code",
   "execution_count": 18,
   "id": "791e4a98",
   "metadata": {},
   "outputs": [
    {
     "name": "stdout",
     "output_type": "stream",
     "text": [
      "[[-3.34  1.25 -3.56]\n",
      " [-3.34  1.25 -3.56]\n",
      " [ 2.76 -3.15 -2.86]\n",
      " ...\n",
      " [ 2.76 -3.15 -2.86]\n",
      " [ 2.76 -3.15 -2.86]\n",
      " [-3.34  1.25 -3.56]]\n"
     ]
    }
   ],
   "source": [
    "#Source coordinates of whatever produced the cosmic ray\n",
    "\n",
    "x0, y0, z0 = data[\"x0\"], data[\"y0\"], data[\"z0\"]\n",
    "\n",
    "sourceCoords = np.stack((x0, y0, z0), axis = 1)\n",
    "print(sourceCoords)"
   ]
  },
  {
   "cell_type": "code",
   "execution_count": 26,
   "id": "adca9524",
   "metadata": {},
   "outputs": [
    {
     "name": "stdout",
     "output_type": "stream",
     "text": [
      "[[ 4.34450207e+18  5.49039155e-01 -2.53110517e-01 -7.96549479e-01\n",
      "   3.65188565e-04]\n",
      " [ 3.61359943e+18  6.65186475e-01 -1.52507423e-01 -7.30936686e-01\n",
      "   1.01782102e-03]\n",
      " [ 8.31763771e+19  6.05112935e-01 -6.27810876e-01  4.89583333e-01\n",
      "   1.05754305e-46]\n",
      " ...\n",
      " [ 7.54987930e+18  6.78324744e-01 -6.37929883e-01  3.64583333e-01\n",
      "   6.23778231e-06]\n",
      " [ 5.46940406e+18  5.76213620e-01 -7.57330638e-01  3.07291667e-01\n",
      "   7.78522069e-05]\n",
      " [ 1.58489319e+20  3.03586720e-02  2.32950283e-02 -9.99267578e-01\n",
      "   8.11476543e-88]]\n"
     ]
    }
   ],
   "source": [
    "features = np.stack((R, px, py, pz, N), axis = 1)\n",
    "print(features)"
   ]
  },
  {
   "cell_type": "code",
   "execution_count": 31,
   "id": "abef6ffd",
   "metadata": {},
   "outputs": [
    {
     "data": {
      "text/plain": [
       "(1352, 5)"
      ]
     },
     "execution_count": 31,
     "metadata": {},
     "output_type": "execute_result"
    }
   ],
   "source": [
    "np.shape(features)"
   ]
  },
  {
   "cell_type": "code",
   "execution_count": 29,
   "id": "c6a28265",
   "metadata": {},
   "outputs": [],
   "source": [
    "for i in range(np.shape(features)[1]): \n",
    "    feature = features[:, i]\n",
    "    feature_norm = normalize(feature)\n",
    "    features[:, i] = feature_norm"
   ]
  },
  {
   "cell_type": "code",
   "execution_count": 30,
   "id": "a5b70d15",
   "metadata": {},
   "outputs": [
    {
     "name": "stdout",
     "output_type": "stream",
     "text": [
      "[[1.25030004e-02 5.99841184e-01 4.65870065e-01 1.31864796e-01\n",
      "  9.73774411e-03]\n",
      " [9.96210203e-03 7.22636860e-01 5.29007507e-01 1.74429501e-01\n",
      "  2.71401726e-02]\n",
      " [2.86552886e-01 6.59124668e-01 2.30712068e-01 9.66212203e-01\n",
      "  2.81993595e-45]\n",
      " ...\n",
      " [2.36461232e-02 7.36527172e-01 2.24361486e-01 8.85121491e-01\n",
      "  1.66330312e-04]\n",
      " [1.64135919e-02 6.28571135e-01 1.49426829e-01 8.47954914e-01\n",
      "  2.07592719e-03]\n",
      " [5.48369609e-01 5.14710605e-02 6.39339273e-01 3.56355669e-04\n",
      "  1.87687846e-86]]\n"
     ]
    }
   ],
   "source": [
    "print(features)"
   ]
  },
  {
   "cell_type": "code",
   "execution_count": null,
   "id": "f72366b0",
   "metadata": {},
   "outputs": [],
   "source": []
  }
 ],
 "metadata": {
  "kernelspec": {
   "display_name": "crpropa",
   "language": "python",
   "name": "crpropa"
  },
  "language_info": {
   "codemirror_mode": {
    "name": "ipython",
    "version": 3
   },
   "file_extension": ".py",
   "mimetype": "text/x-python",
   "name": "python",
   "nbconvert_exporter": "python",
   "pygments_lexer": "ipython3",
   "version": "3.9.13"
  }
 },
 "nbformat": 4,
 "nbformat_minor": 5
}
